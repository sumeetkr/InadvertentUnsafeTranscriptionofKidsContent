{
  "nbformat": 4,
  "nbformat_minor": 0,
  "metadata": {
    "colab": {
      "provenance": []
    },
    "kernelspec": {
      "name": "python3",
      "display_name": "Python 3"
    },
    "language_info": {
      "name": "python"
    }
  },
  "cells": [
    {
      "cell_type": "code",
      "metadata": {
        "id": "9oG3lC5FtFMr"
      },
      "source": [
        "import re\n",
        "import json\n",
        "from difflib import ndiff\n",
        "import os\n",
        "import pandas as pd\n",
        "import matplotlib.pyplot as plt"
      ],
      "execution_count": null,
      "outputs": []
    },
    {
      "cell_type": "code",
      "metadata": {
        "id": "wwpKDgFEs9Yf"
      },
      "source": [
        "def calculate_levenshtein_distance(str_1, str_2):\n",
        "    \"\"\"\n",
        "        The Levenshtein distance is a string metric for measuring the difference between two sequences.\n",
        "        It is calculated as the minimum number of single-character edits necessary to transform one string into another\n",
        "    \"\"\"\n",
        "    distance = 0\n",
        "    buffer_removed = buffer_added = 0\n",
        "    for x in ndiff(str_1, str_2):\n",
        "        code = x[0]\n",
        "        # Code ? is ignored as it does not translate to any modification\n",
        "        if code == ' ':\n",
        "            distance += max(buffer_removed, buffer_added)\n",
        "            buffer_removed = buffer_added = 0\n",
        "        elif code == '-':\n",
        "            buffer_removed += 1\n",
        "        elif code == '+':\n",
        "            buffer_added += 1\n",
        "    distance += max(buffer_removed, buffer_added)\n",
        "    return distance\n",
        "\n",
        "def removePunctuation(line):\n",
        "    # initializing punctuations string\n",
        "    punc = '''!()-[]{};:'\"\\,<>./?@#$%^&*_~'''\n",
        "\n",
        "    # Removing punctuations in string\n",
        "    # Using loop + punctuation string\n",
        "    for ele in line:\n",
        "        if ele in punc:\n",
        "            line = line.replace(ele, \"\")\n",
        "    return(line)\n",
        "\n",
        "def findLeftIndex(anchorPoint, sourceWords, sourceTranscriptDict, targetTranscriptDict):\n",
        "    #Iterate from anchorPoint to 0\n",
        "    for loop in range(anchorPoint - 1, 0, -1):\n",
        "        if(sourceWords[loop] in targetTranscriptDict and sourceTranscriptDict[sourceWords[loop]] == targetTranscriptDict[sourceWords[loop]]):\n",
        "            return loop\n",
        "    return -1\n",
        "\n",
        "def findRightIndex(anchorPoint, sourceWords, sourceTranscriptDict, targetTranscriptDict):\n",
        "    #Iterate from anchorPoint to end\n",
        "    lenSource = len(sourceWords)\n",
        "    for loop in range(anchorPoint + 1, lenSource, 1):\n",
        "        if(sourceWords[loop] in targetTranscriptDict and sourceTranscriptDict[sourceWords[loop]] == targetTranscriptDict[sourceWords[loop]]):\n",
        "            return loop\n",
        "    return -1\n",
        "\n",
        "def getIndividualIndex(wordIndex, word, detailedDict):\n",
        "    wordDict = detailedDict[word]\n",
        "    dictLen = len(wordDict)\n",
        "\n",
        "    for loop in range(0, dictLen, 1):\n",
        "        if(wordDict[loop] == wordIndex):\n",
        "            return loop\n",
        "\n",
        "def getString(leftIndex, rightIndex, words):\n",
        "    if(leftIndex >= rightIndex):\n",
        "        return(\"\")\n",
        "\n",
        "    choppedWords = words[leftIndex:rightIndex+1]\n",
        "    return(\" \".join(choppedWords).strip())\n",
        "\n",
        "\n",
        "\n",
        "def findMatching(slurWordIndex, sourceTranscript, sourceTranscriptDict, sourceTranscriptDetailedDict, targetTranscript, targetTranscriptDict, targetTranscriptDetailedDict):\n",
        "    sourceWords = sourceTranscript.split()\n",
        "    targetWords = targetTranscript.split()\n",
        "\n",
        "    #print(sourceWords[slurWordIndex])\n",
        "\n",
        "    sourceLeftIndex = slurWordIndex\n",
        "    sourceRightIndex = slurWordIndex\n",
        "    sourceBestLeftIndex = slurWordIndex\n",
        "    sourceBestRightIndex = slurWordIndex\n",
        "\n",
        "    #Find the first left and right indices that are perfects\n",
        "\n",
        "    sourceLeftIndex = findLeftIndex(slurWordIndex, sourceWords, sourceTranscriptDict, targetTranscriptDict)\n",
        "    #print(sourceWords[sourceLeftIndex])\n",
        "    sourceRightIndex = findRightIndex(slurWordIndex, sourceWords, sourceTranscriptDict, targetTranscriptDict)\n",
        "    #print(sourceWords[sourceRightIndex])\n",
        "\n",
        "\n",
        "    #Get individual index of a perfect word\n",
        "    sourceLeftIndividualIndex = getIndividualIndex(sourceLeftIndex, sourceWords[sourceLeftIndex], sourceTranscriptDetailedDict)\n",
        "    #print(sourceLeftIndividualIndex)\n",
        "    sourceRightIndividualIndex = getIndividualIndex(sourceRightIndex, sourceWords[sourceRightIndex], sourceTranscriptDetailedDict)\n",
        "    #print(sourceRightIndividualIndex)\n",
        "\n",
        "    #print(targetTranscriptDetailedDict)\n",
        "\n",
        "    targetLeftIndex = targetTranscriptDetailedDict[sourceWords[sourceLeftIndex]][sourceLeftIndividualIndex]\n",
        "    #print(targetLeftIndex)\n",
        "    targetRightIndex = targetTranscriptDetailedDict[sourceWords[sourceRightIndex]][sourceRightIndividualIndex]\n",
        "    #print(targetRightIndex)\n",
        "\n",
        "    #Matching perfects are found, now compute the substring and print the substrings\n",
        "\n",
        "    sourceString = getString(sourceLeftIndex, sourceRightIndex, sourceWords)\n",
        "    #print(sourceString)\n",
        "    targetString = getString(targetLeftIndex, targetRightIndex, targetWords)\n",
        "    #print(targetString)\n",
        "\n",
        "    bestLevenshtein = calculate_levenshtein_distance(sourceString, targetString)\n",
        "\n",
        "    bestSourceLeftIndex = sourceLeftIndex\n",
        "    bestSourceRightIndex = sourceRightIndex\n",
        "    bestTargetLeftIndex = targetLeftIndex\n",
        "    bestTargetRightIndex = targetRightIndex\n",
        "    currentLevenshtein = bestLevenshtein\n",
        "\n",
        "    #Find potential left expansion indices\n",
        "    #Find potential right expansion indices\n",
        "    #compute all three possibilities (e.g., left expansion, unchanged) (unchanged, right expansion) (left expansion, right expansion)\n",
        "    #if none of these improves the Levenshtein distance, stop\n",
        "\n",
        "    while(currentLevenshtein <= bestLevenshtein):\n",
        "\n",
        "        sourceLeftIndex = findLeftIndex(bestSourceLeftIndex, sourceWords, sourceTranscriptDict, targetTranscriptDict)\n",
        "        #print(sourceWords[sourceLeftIndex])\n",
        "        sourceRightIndex = findRightIndex(bestSourceRightIndex, sourceWords, sourceTranscriptDict, targetTranscriptDict)\n",
        "        #print(sourceWords[sourceRightIndex])\n",
        "\n",
        "        #Get individual index of a perfect word\n",
        "        sourceLeftIndividualIndex = getIndividualIndex(sourceLeftIndex, sourceWords[sourceLeftIndex], sourceTranscriptDetailedDict)\n",
        "        #print(sourceLeftIndividualIndex)\n",
        "        sourceRightIndividualIndex = getIndividualIndex(sourceRightIndex, sourceWords[sourceRightIndex], sourceTranscriptDetailedDict)\n",
        "        #print(sourceRightIndividualIndex)\n",
        "\n",
        "        targetLeftIndex = targetTranscriptDetailedDict[sourceWords[sourceLeftIndex]][sourceLeftIndividualIndex]\n",
        "        #print(targetLeftIndex)\n",
        "        targetRightIndex = targetTranscriptDetailedDict[sourceWords[sourceRightIndex]][sourceRightIndividualIndex]\n",
        "\n",
        "        #There are three possibilities now\n",
        "\n",
        "        #left expansion\n",
        "        sourceString = getString(sourceLeftIndex, bestSourceRightIndex, sourceWords)\n",
        "        #print(sourceString)\n",
        "        targetString = getString(targetLeftIndex, bestTargetRightIndex, targetWords)\n",
        "        #print(targetString)\n",
        "\n",
        "        leftExpansionLevenshtein = calculate_levenshtein_distance(sourceString, targetString)\n",
        "        #print(leftExpansionLevenshtein)\n",
        "\n",
        "        #right expansion\n",
        "        sourceString = getString(bestSourceLeftIndex, sourceRightIndex, sourceWords)\n",
        "        #print(sourceString)\n",
        "        targetString = getString(bestTargetLeftIndex, targetRightIndex, targetWords)\n",
        "        #print(targetString)\n",
        "\n",
        "        rightExpansionLevenshtein = calculate_levenshtein_distance(sourceString, targetString)\n",
        "        #print(rightExpansionLevenshtein)\n",
        "\n",
        "        #both expansion\n",
        "        sourceString = getString(sourceLeftIndex, sourceRightIndex, sourceWords)\n",
        "        #print(sourceString)\n",
        "        targetString = getString(targetLeftIndex, targetRightIndex, targetWords)\n",
        "        #print(targetString)\n",
        "\n",
        "        bothExpansionLevenshtein = calculate_levenshtein_distance(sourceString, targetString)\n",
        "        #print(bothExpansionLevenshtein)\n",
        "\n",
        "        currentLevenshtein = min(bothExpansionLevenshtein, leftExpansionLevenshtein, rightExpansionLevenshtein)\n",
        "\n",
        "\n",
        "        if(currentLevenshtein <= bestLevenshtein):\n",
        "            bestLevenshtein = currentLevenshtein\n",
        "            #If left expansion brings in improvement\n",
        "            if(leftExpansionLevenshtein == currentLevenshtein):\n",
        "                bestSourceLeftIndex = sourceLeftIndex\n",
        "                bestTargetLeftIndex = targetLeftIndex\n",
        "\n",
        "            #If right expansion brings in improvement\n",
        "            if(rightExpansionLevenshtein == currentLevenshtein):\n",
        "                bestSourceRightIndex = sourceRightIndex\n",
        "                bestTargetRightIndex = targetRightIndex\n",
        "\n",
        "            #If both expansion brings in improvement\n",
        "            if(bothExpansionLevenshtein == currentLevenshtein):\n",
        "                bestSourceLeftIndex = sourceLeftIndex\n",
        "                bestTargetLeftIndex = targetLeftIndex\n",
        "                bestSourceRightIndex = sourceRightIndex\n",
        "                bestTargetRightIndex = targetRightIndex\n",
        "\n",
        "    #left expansion\n",
        "    sourceString = getString(bestSourceLeftIndex, bestSourceRightIndex, sourceWords)\n",
        "    #print(sourceString)\n",
        "    targetString = getString(bestTargetLeftIndex, bestTargetRightIndex, targetWords)\n",
        "    #print(targetString)\n",
        "    bestLevenshtein = calculate_levenshtein_distance(sourceString, targetString)\n",
        "    #print(bestLevenshtein)\n",
        "    return sourceString, targetString, bestLevenshtein"
      ],
      "execution_count": null,
      "outputs": []
    },
    {
      "cell_type": "code",
      "metadata": {
        "id": "TdX-6fV6xHYn"
      },
      "source": [
        "def findMatching(slurWordIndex, sourceTranscript, sourceTranscriptDict, sourceTranscriptDetailedDict, targetTranscript, targetTranscriptDict, targetTranscriptDetailedDict):\n",
        "    sourceWords = sourceTranscript.split()\n",
        "    targetWords = targetTranscript.split()\n",
        "\n",
        "    #print(sourceWords[slurWordIndex])\n",
        "\n",
        "    sourceLeftIndex = slurWordIndex\n",
        "    sourceRightIndex = slurWordIndex\n",
        "    sourceBestLeftIndex = slurWordIndex\n",
        "    sourceBestRightIndex = slurWordIndex\n",
        "\n",
        "    #Find the first left and right indices that are perfects\n",
        "\n",
        "    sourceLeftIndex = findLeftIndex(slurWordIndex, sourceWords, sourceTranscriptDict, targetTranscriptDict)\n",
        "    #print(sourceWords[sourceLeftIndex])\n",
        "    sourceRightIndex = findRightIndex(slurWordIndex, sourceWords, sourceTranscriptDict, targetTranscriptDict)\n",
        "    #print(sourceWords[sourceRightIndex])\n",
        "\n",
        "\n",
        "    #Get individual index of a perfect word\n",
        "    sourceLeftIndividualIndex = getIndividualIndex(sourceLeftIndex, sourceWords[sourceLeftIndex], sourceTranscriptDetailedDict)\n",
        "    #print(sourceLeftIndividualIndex)\n",
        "    sourceRightIndividualIndex = getIndividualIndex(sourceRightIndex, sourceWords[sourceRightIndex], sourceTranscriptDetailedDict)\n",
        "    #print(sourceRightIndividualIndex)\n",
        "\n",
        "    #print(targetTranscriptDetailedDict)\n",
        "\n",
        "    targetLeftIndex = targetTranscriptDetailedDict[sourceWords[sourceLeftIndex]][sourceLeftIndividualIndex]\n",
        "    #print(targetLeftIndex)\n",
        "    targetRightIndex = targetTranscriptDetailedDict[sourceWords[sourceRightIndex]][sourceRightIndividualIndex]\n",
        "    #print(targetRightIndex)\n",
        "\n",
        "    #Matching perfects are found, now compute the substring and print the substrings\n",
        "\n",
        "    sourceString = getString(sourceLeftIndex, sourceRightIndex, sourceWords)\n",
        "    #print(sourceString)\n",
        "    targetString = getString(targetLeftIndex, targetRightIndex, targetWords)\n",
        "    #print(targetString)\n",
        "\n",
        "    bestLevenshtein = calculate_levenshtein_distance(sourceString, targetString)\n",
        "\n",
        "    bestSourceLeftIndex = sourceLeftIndex\n",
        "    bestSourceRightIndex = sourceRightIndex\n",
        "    bestTargetLeftIndex = targetLeftIndex\n",
        "    bestTargetRightIndex = targetRightIndex\n",
        "    currentLevenshtein = bestLevenshtein\n",
        "\n",
        "    #Find potential left expansion indices\n",
        "    #Find potential right expansion indices\n",
        "    #compute all three possibilities (e.g., left expansion, unchanged) (unchanged, right expansion) (left expansion, right expansion)\n",
        "    #if none of these improves the Levenshtein distance, stop\n",
        "\n",
        "    while(currentLevenshtein <= bestLevenshtein):\n",
        "\n",
        "        sourceLeftIndex = findLeftIndex(bestSourceLeftIndex, sourceWords, sourceTranscriptDict, targetTranscriptDict)\n",
        "        #print(sourceWords[sourceLeftIndex])\n",
        "        sourceRightIndex = findRightIndex(bestSourceRightIndex, sourceWords, sourceTranscriptDict, targetTranscriptDict)\n",
        "        #print(sourceWords[sourceRightIndex])\n",
        "\n",
        "        #Get individual index of a perfect word\n",
        "        sourceLeftIndividualIndex = getIndividualIndex(sourceLeftIndex, sourceWords[sourceLeftIndex], sourceTranscriptDetailedDict)\n",
        "        #print(sourceLeftIndividualIndex)\n",
        "        sourceRightIndividualIndex = getIndividualIndex(sourceRightIndex, sourceWords[sourceRightIndex], sourceTranscriptDetailedDict)\n",
        "        #print(sourceRightIndividualIndex)\n",
        "\n",
        "        targetLeftIndex = targetTranscriptDetailedDict[sourceWords[sourceLeftIndex]][sourceLeftIndividualIndex]\n",
        "        #print(targetLeftIndex)\n",
        "        targetRightIndex = targetTranscriptDetailedDict[sourceWords[sourceRightIndex]][sourceRightIndividualIndex]\n",
        "\n",
        "        #There are three possibilities now\n",
        "\n",
        "        #left expansion\n",
        "        sourceString = getString(sourceLeftIndex, bestSourceRightIndex, sourceWords)\n",
        "        #print(sourceString)\n",
        "        targetString = getString(targetLeftIndex, bestTargetRightIndex, targetWords)\n",
        "        #print(targetString)\n",
        "\n",
        "        leftExpansionLevenshtein = calculate_levenshtein_distance(sourceString, targetString)\n",
        "        #print(leftExpansionLevenshtein)\n",
        "\n",
        "        #right expansion\n",
        "        sourceString = getString(bestSourceLeftIndex, sourceRightIndex, sourceWords)\n",
        "        #print(sourceString)\n",
        "        targetString = getString(bestTargetLeftIndex, targetRightIndex, targetWords)\n",
        "        #print(targetString)\n",
        "\n",
        "        rightExpansionLevenshtein = calculate_levenshtein_distance(sourceString, targetString)\n",
        "        #print(rightExpansionLevenshtein)\n",
        "\n",
        "        #both expansion\n",
        "        sourceString = getString(sourceLeftIndex, sourceRightIndex, sourceWords)\n",
        "        #print(sourceString)\n",
        "        targetString = getString(targetLeftIndex, targetRightIndex, targetWords)\n",
        "        #print(targetString)\n",
        "\n",
        "        bothExpansionLevenshtein = calculate_levenshtein_distance(sourceString, targetString)\n",
        "        #print(bothExpansionLevenshtein)\n",
        "\n",
        "        currentLevenshtein = min(bothExpansionLevenshtein, leftExpansionLevenshtein, rightExpansionLevenshtein)\n",
        "\n",
        "\n",
        "        if(currentLevenshtein <= bestLevenshtein):\n",
        "            bestLevenshtein = currentLevenshtein\n",
        "            #If left expansion brings in improvement\n",
        "            if(leftExpansionLevenshtein == currentLevenshtein):\n",
        "                bestSourceLeftIndex = sourceLeftIndex\n",
        "                bestTargetLeftIndex = targetLeftIndex\n",
        "\n",
        "            #If right expansion brings in improvement\n",
        "            if(rightExpansionLevenshtein == currentLevenshtein):\n",
        "                bestSourceRightIndex = sourceRightIndex\n",
        "                bestTargetRightIndex = targetRightIndex\n",
        "\n",
        "            #If both expansion brings in improvement\n",
        "            if(bothExpansionLevenshtein == currentLevenshtein):\n",
        "                bestSourceLeftIndex = sourceLeftIndex\n",
        "                bestTargetLeftIndex = targetLeftIndex\n",
        "                bestSourceRightIndex = sourceRightIndex\n",
        "                bestTargetRightIndex = targetRightIndex\n",
        "\n",
        "    #left expansion\n",
        "    sourceString = getString(bestSourceLeftIndex-20, bestSourceRightIndex+20, sourceWords)\n",
        "    #print(sourceString)\n",
        "    targetString = getString(bestTargetLeftIndex-20, bestTargetRightIndex+20, targetWords)\n",
        "    #print(targetString)\n",
        "    bestLevenshtein = calculate_levenshtein_distance(sourceString, targetString)\n",
        "    #print(bestLevenshtein)\n",
        "    return sourceString, targetString, bestLevenshtein"
      ],
      "execution_count": null,
      "outputs": []
    },
    {
      "cell_type": "code",
      "metadata": {
        "id": "bq7JjAxg5-wh"
      },
      "source": [
        "df=pd.read_csv(\"CSV/Data_Final_Full.csv\")\n",
        "df_=pd.read_csv(\"CSV/Matched Transcripts.csv\")"
      ],
      "execution_count": null,
      "outputs": []
    },
    {
      "cell_type": "code",
      "metadata": {
        "id": "UkWPDjaL5_ZI"
      },
      "source": [
        "ids=df['Video Id'].to_list()\n",
        "ids=[i[:-4] for i in ids]\n",
        "slurs_list=df['Slur'].to_list()\n",
        "ids_match=df_['Video Id'].to_list()\n",
        "am=df_['Amazon'].to_list()\n",
        "yt=df_['YouTube'].to_list()\n",
        "start_time=df['Link'].to_list()\n",
        "\n",
        "transcripts=[]\n",
        "for i in range(len(ids)):\n",
        "  item=ids[i]\n",
        "  if(item in ids_match):\n",
        "    ind=ids_match.index(item)\n",
        "    slur=slurs_list[i]\n",
        "    transcripts.append((am[ind], yt[ind], item, slur, start_time[i]))"
      ],
      "execution_count": null,
      "outputs": []
    },
    {
      "cell_type": "code",
      "metadata": {
        "colab": {
          "base_uri": "https://localhost:8080/"
        },
        "id": "blLmdopt7Q7r",
        "outputId": "7c16c038-ce43-433c-875d-d690ee5c4f72"
      },
      "source": [
        "print(transcripts[0][0])\n",
        "print(transcripts[0][1])\n",
        "print(transcripts[0][2])\n",
        "print(transcripts[0][3])\n",
        "print(transcripts[0][4])\n",
        "print(len(transcripts))"
      ],
      "execution_count": null,
      "outputs": [
        {
          "output_type": "stream",
          "name": "stdout",
          "text": [
            "Yeah Uh huh Yeah No Yeah Welcome to Simple Kids Crafts dot com Episode 675 Makeup transformation Goglia Jobs become scarce Screams We will start this makeup transformation but I will not put any of the materials Why Because I want you to watch the whole video until the end So stay tuned Mhm Mhm We will start our makeup transformation by taking three different types of nail polish dark green white and black And that's how we will need for the makeup transformation on Julia's face I will start by painting the inside of the eye by using white and I'm not going to remove all the makeup just yet because I'm going to guide myself by using the makeup that Julia had previously on her face I'll take a little bit of nail polish remover and a Q tip and I'll start removing the makeup carefully Then I'm going to take a little bit of green and white to make the shade that I want for good idea here And I'm going to start painting her eyes on the upper portion Her problem and then I'm going to paint the lips in the same shape Now this is for the top of the eye shadow where the eye shadow will go for the lips and also for the bottom of the I Um and we will go ahead and finish up the lip And after this we will take black nail polish and then we will also do the eyebrows The reason why we're doing the eyebrows is because mascara has darker eyebrows and thicker eyebrows And Julia So we will be going over the eyebrows of Julia but making it a little bit sicker for Skara Then we will do the eye corner right here A little bit of um a Wingate Look you will go all the way through and then we will do the wing It look all the way at the end of the eye and then we will do the same thing on the other I as well Now I'm using a very fine tip for a nail polish over here I'm going to put a little bit of the same blue that I put as a nice shadow on the bottom of the eye here And then I am going to go ahead and again paint the bottom of the eye doing a very very fine water line on her and you can retouch as you like Then I'm going to make the the bottom lashes by using the same technique And I'm going to do the same thing on the other I as well after I'm done here And that's all the makeup that we will need now to make the clothing I will be using all things that I have around the house This is my husband's shirt I have an old cans uh sweater and I have a wig from another doll So I'm going to cut the top portion of the wig so that I can make the banks for my good idea here or mascara now and then I'm going to take my color and it will be in very low temperature so that I can make the banks for Sarah And then I'm going to take the shirt and remove the buttons and I'm going to make a skirt for scar and making the skirt It's pretty simple I'll just take a portion of the shirt right here and make it fit the bottom part of my door and then I'm just gonna saw it along the lines leaving a little bit at the top so that I don't have to put buttons or anything and I'm just gonna saw right along and then I am going to cut the excess Now you can do this in any colour you like I just wanted to match the outfit that's Cara has on her packaging or her original release So I'm leaving the top like this so that then I can actually fit this Kurt onto my doll And then I am going to proceed to make the top And for the top I'll use the candles Uh sweater I will remove a portion of it at the top and on the other side and then outside set up and um basically saw it so that it would look like scares clothing I'm going to also cut the bottom because it's a little bit too long again Any kind of fabric that is stretchy will work for this and I'm just trying to match the outfit that Sarah has in her anus Now we are ready to put our doll together and I'm going to attach the head for my dog and we're going to speed it up a little bit I'm going to put in the shirt that I just made for her and I'm gonna squeeze that right through and I'm going to attach it on the path and then I am going to put her skirt on And as you can see it's pretty easy because I didn't have to put any buttons on the back of it And now I'm going to go ahead and put the belt and for the rest of it I'm just gonna do her hair and flip it a little bit And then from my tutorial on how to do headbands I'm going to take the water cup Um and I'm going to use that as a headband I use a water cab ring as well for the belt And as you can see here we have the complete look for sky era And I hope that you like this tutorial Let me know if you want to do another one like this and comment below and stay tuned for the child out I'll see you in the next video Bye Yeah yeah yeah yeah yeah Mhm Okay Oh Mhm Yeah yeah yeah\n",
            "welcome to simple kids crafts calm episode 675 makeup transformation ghoulia yelps become scared streams we will start this makeup transformation but I will not put any of the materials why because I want you to watch the whole video until the end so stay tuned we will start our makeup transformation by taking three different types of nail polish dark green white and black and that's all we will need for the makeup transformation on Julia's face I will start by painting the inside of the eye by using white and I'm not going to remove all the makeup just yet because I'm going to guide myself by using the makeup that ghoulia had previously on her face I'll take a little bit of nail polish remover and a q-tip and I'll start removing the makeup carefully then I'm going to take a little bit of green and white to make the shape that I want for ghoulia here and I'm going to start painting her eyes on the upper portion her brow bone and then I'm going to paint the lips in the same shape now this is for the top of the eye shadow where the eye shadow will go for the lips and also for the bottom of the eye and we will go ahead and finish up the lip and after this we will take black nail polish and then we will also do the eyebrows the reason why we're doing the eyebrows is because Skara has darker eyebrows and thicker eyebrows and ghoulia so we will be going over the eyebrows oh cool yeah but making it a little bit thicker for scar then we will do the eye corner right here a little bit of a wing good look you will go all the way through and then we will do when you look all the way at the end of the I and then we will do the same thing on the other eye as well now I'm using a very fine tip for a nail polish over here I'm going to put a little bit of the same blue that I put as an eye shadow on the bottom of the eye here and then I'm going to go ahead and again paint the bottom of the eye doing a very very fine waterline on her and you can retouch as you like then I'm going to make that eye the bottom lashes by using the same technique and I'm going to do the same thing on the other eye as well after I'm done here and that's all the makeup that we will need now to make the clothing I will be using all things that I have around the house this is my Constance shirt I have an old cans sweater and I have a wig from another doll so I'm going to cut the top portion of the wig so that I can make the banks for my ghoulia here or my sclera now and then I'm going to take my curler and it will be in very low temperature so that I can make the banks for Skara and then I'm going to take the shirt and remove the buttons and I'm going to make a skirt for Sara and making the skirt is pretty simple I'll just take a portion of the shirt right here and make it fit the bottom part of my doll and then I'm just gonna sew it along the lines leaving a little bit at the top so that I don't have to put buttons or anything and I'm just gonna saw right along and then I'm going to cut the excess now you can do this in any color you like I just wanted to match the outfit that Kara has on her packaging or of her original release so I'm leaving the top like this so that then I can actually fit the skirt onto my doll then I am going to proceed to make the top and for the top I'll use the candles sweater I will remove a portion of it at the top and on the other side and then outs I set up and basically saw it so it would look like scarers clothing I'm going to also cut the bottom because it's a little bit too long again any kind of fabric that is stretchy will work for this and I'm just trying to match the outfit that scare has in hurry nice now we are ready to put our doll together and I'm going to attach the head for my doll and we're going to speed it up a little bit I'm going to put in the shirt that I just made for her and I'm gonna squeeze that right through and I'm going to attach it on the pad and then I'm going to put her skirt on and as you can see it's pretty easy because I didn't have to put any buttons on the back of it and now I'm going to go ahead and put the belt and for the rest of it I'm just gonna do her hair and flip it a little bit and then from my tutorial on how to do headbands I'm going to take the water cup and I'm going to use that as a headband I use a water cup ring as well for the belt and as you can see here we have the complete look for Kara and I hope that you like this tutorial let me know if you want to do another one like this and comment below and stay tuned for the child outs I will see you on the next video bye you you\n",
            "t9rMyBQlvZc\n",
            "anus\n",
            "https://www.youtube.com/watch?v=t9rMyBQlvZc&t=276.59s\n",
            "2545\n"
          ]
        }
      ]
    },
    {
      "cell_type": "code",
      "metadata": {
        "id": "cTGi_VZMbVR0",
        "colab": {
          "base_uri": "https://localhost:8080/"
        },
        "outputId": "c8794a3e-f689-4c3c-ff8b-3cdec126df95"
      },
      "source": [
        "transcripts_all=[]\n",
        "length=len(transcripts)\n",
        "count=0\n",
        "\n",
        "for id in range(length):\n",
        "  try:\n",
        "      googleString =\"\"\n",
        "      awsString =\"\"\n",
        "\n",
        "      googleDict = {}\n",
        "      googleDetailedDict = {}\n",
        "      googleIndex = 0\n",
        "      awsIndex = 0\n",
        "      slur=transcripts[id][3]\n",
        "      lines=transcripts[id][1]\n",
        "      modifiedLine = re.sub(\"([\\(\\[]).*?([\\)\\]])\", \"\\g<1>\\g<2>\", lines)\n",
        "      modifiedLine = removePunctuation(modifiedLine)\n",
        "      words = modifiedLine.split()\n",
        "\n",
        "      #Make sure no redundant space in the words\n",
        "\n",
        "      #Break the line into individual words and create a dictionary\n",
        "      words = modifiedLine.split()\n",
        "\n",
        "      for word in words:\n",
        "          googleString = googleString + \" \" + word\n",
        "          if word not in googleDict:\n",
        "              googleDict[word] = 1\n",
        "              wordDict = {}\n",
        "              wordDict[0] = googleIndex\n",
        "              googleDetailedDict[word] = wordDict\n",
        "          else:\n",
        "              googleDict[word] = googleDict[word] + 1\n",
        "              wordDict = googleDetailedDict[word]\n",
        "              googleDetailedDict[word][len(wordDict)] = googleIndex\n",
        "\n",
        "          googleIndex = googleIndex + 1\n",
        "\n",
        "\n",
        "      #print(googleDict)\n",
        "\n",
        "      #for ele in googleDict:\n",
        "      #    print(ele, googleDict[ele])\n",
        "\n",
        "\n",
        "      awsDict = {}\n",
        "      awsDetailedDict = {}\n",
        "\n",
        "      awsTranscript= transcripts[id][0]\n",
        "      awsTranscript = removePunctuation(awsTranscript)\n",
        "      awsTranscript =awsTranscript.lower()\n",
        "\n",
        "      #Break the line into individual words and create a dictionary\n",
        "      words = awsTranscript.split()\n",
        "\n",
        "      for word in words:\n",
        "          awsString = awsString + \" \" + word\n",
        "          if word not in awsDict:\n",
        "              awsDict[word] = 1\n",
        "              wordDict = {}\n",
        "              wordDict[0] = awsIndex\n",
        "              awsDetailedDict[word] = wordDict\n",
        "          else:\n",
        "              awsDict[word] = awsDict[word] + 1\n",
        "              wordDict = awsDetailedDict[word]\n",
        "              awsDetailedDict[word][len(wordDict)] = awsIndex\n",
        "\n",
        "          awsIndex = awsIndex + 1\n",
        "\n",
        "      totalMatch = 0\n",
        "\n",
        "      for ele in awsDict:\n",
        "          if ele in googleDict:\n",
        "              if(awsDict[ele] == googleDict[ele]):\n",
        "                  totalMatch = totalMatch + 1\n",
        "\n",
        "      #print(totalMatch / len(awsDict))\n",
        "\n",
        "      #print(awsDetailedDict)\n",
        "      #print(calculate_levenshtein_distance(googleString, awsString))\n",
        "\n",
        "\n",
        "      #We have the googlestring and the awsstring. Now remove any redundant spaces from the Google and AWS string\n",
        "\n",
        "      googleString = \" \".join(googleString.split()).strip()\n",
        "      awsString = \" \".join(awsString.split()).strip()\n",
        "\n",
        "      #print(googleString)\n",
        "      #print(awsString)\n",
        "      #We have all the perfects, detailed dictionary, cleaned up string, we are ready for the next step!\n",
        "\n",
        "      index_slur=(awsString.split()).index(slur)\n",
        "      #youtube_, amazon_, c= findMatching(index_slur, googleString, googleDict, googleDetailedDict, awsString, awsDict, awsDetailedDict)\n",
        "      amazon_, youtube_, c=findMatching(index_slur, awsString, awsDict, awsDetailedDict, googleString, googleDict, googleDetailedDict)\n",
        "      #transcripts_all.append((transcripts[id][3], transcripts[id][0], amazon_, transcripts[id][1], youtube_, c, transcripts[id][4]))\n",
        "      #transcripts_all.append((transcripts[id][3], transcripts[id][1], youtube_, transcripts[id][0], amazon_, c, transcripts[id][4]))\n",
        "      #youtube_, amazon_, c= findMatching(index_slur, googleString, googleDict, googleDetailedDict, awsString, awsDict, awsDetailedDict)\n",
        "      #amazon_, youtube_, c=findMatching(index_slur, awsString, awsDict, awsDetailedDict, googleString, googleDict, googleDetailedDict)\n",
        "      transcripts_all.append((transcripts[id][3], transcripts[id][0], amazon_, transcripts[id][1], youtube_, c, transcripts[id][4]))\n",
        "      #transcripts_all.append((transcripts[id][3], transcripts[id][1], youtube_, transcripts[id][0], amazon_, c, transcripts[id][4]))\n",
        "  except Exception as e:\n",
        "   print(e)\n",
        "   count+=1"
      ],
      "execution_count": null,
      "outputs": [
        {
          "output_type": "stream",
          "name": "stdout",
          "text": [
            "'bad'\n",
            "None\n",
            "'mm'\n",
            "'starring'\n",
            "None\n",
            "'mhm'\n",
            "None\n",
            "'near'\n",
            "'ass'\n",
            "'yeah'\n",
            "'yeah'\n",
            "'five'\n",
            "'yeah'\n",
            "None\n",
            "'five'\n",
            "'presents'\n",
            "None\n",
            "None\n",
            "None\n",
            "'mhm'\n",
            "None\n",
            "None\n",
            "'starring'\n",
            "'yeah'\n",
            "'mhm'\n",
            "'um'\n",
            "'mhm'\n",
            "'guy'\n",
            "'what'\n",
            "'problem'\n",
            "'yeah'\n",
            "'mhm'\n",
            "None\n",
            "'hello'\n",
            "'master'\n",
            "None\n",
            "'mhm'\n",
            "'mhm'\n",
            "None\n",
            "None\n",
            "'mhm'\n",
            "'back'\n",
            "None\n",
            "'mhm'\n",
            "'right'\n",
            "'no'\n",
            "None\n",
            "None\n",
            "None\n",
            "'hey'\n",
            "None\n",
            "None\n",
            "None\n",
            "None\n",
            "'wow'\n",
            "'okay'\n",
            "None\n",
            "None\n",
            "'wow'\n",
            "None\n",
            "'sky'\n",
            "'b'\n",
            "'because'\n",
            "'yeah'\n",
            "None\n",
            "None\n",
            "'yeah'\n",
            "None\n",
            "'mhm'\n",
            "'okay'\n",
            "'mhm'\n",
            "None\n",
            "'five'\n",
            "'yeah'\n",
            "'mhm'\n",
            "'mm'\n",
            "None\n",
            "None\n",
            "None\n",
            "'pasta'\n",
            "None\n",
            "'grover'\n",
            "None\n",
            "None\n",
            "None\n",
            "None\n",
            "None\n",
            "None\n",
            "'mhm'\n",
            "None\n",
            "'yeah'\n",
            "'five'\n",
            "'mhm'\n",
            "'emitters'\n",
            "None\n",
            "None\n",
            "'oh'\n",
            "'five'\n",
            "'mhm'\n",
            "'railway'\n",
            "None\n",
            "'oh'\n",
            "'mask'\n",
            "'mhm'\n",
            "None\n",
            "'sucks'\n",
            "'oh'\n",
            "'yeah'\n",
            "'five'\n",
            "'mhm'\n",
            "'yours'\n",
            "None\n",
            "'hmm'\n",
            "'yeah'\n",
            "'yeah'\n",
            "None\n",
            "None\n",
            "None\n",
            "'byes'\n",
            "'thing'\n",
            "None\n",
            "'yeah'\n",
            "None\n",
            "'technology'\n",
            "None\n",
            "None\n",
            "None\n",
            "'mhm'\n",
            "'34567'\n",
            "None\n",
            "'shit'\n",
            "None\n",
            "'by'\n",
            "'five'\n",
            "'five'\n",
            "'okay'\n",
            "None\n",
            "'mhm'\n",
            "None\n",
            "None\n",
            "'five'\n",
            "None\n",
            "'videos'\n",
            "'five'\n",
            "None\n",
            "'bye'\n",
            "None\n",
            "'five'\n",
            "'five'\n",
            "'five'\n",
            "None\n",
            "None\n",
            "'mm'\n",
            "None\n",
            "None\n",
            "'five'\n",
            "'five'\n",
            "None\n",
            "'five'\n",
            "'five'\n",
            "None\n",
            "None\n",
            "'giant'\n",
            "None\n",
            "'anybody'\n",
            "None\n",
            "'five'\n",
            "None\n",
            "'five'\n",
            "'bye'\n",
            "'master'\n",
            "'wow'\n",
            "None\n",
            "'by'\n",
            "None\n",
            "None\n",
            "None\n",
            "'mhm'\n",
            "'mhm'\n",
            "'yeah'\n",
            "'street'\n",
            "'yeah'\n",
            "None\n",
            "'yeah'\n",
            "None\n",
            "None\n",
            "None\n",
            "'mhm'\n",
            "'yeah'\n",
            "'gardenia'\n",
            "None\n",
            "None\n",
            "'five'\n",
            "'sharky'\n",
            "None\n",
            "None\n",
            "'lago'\n",
            "'days'\n",
            "'finally'\n",
            "'jeans'\n",
            "'mhm'\n",
            "None\n",
            "None\n",
            "None\n",
            "None\n",
            "'mhm'\n",
            "None\n",
            "'five'\n",
            "'yeah'\n",
            "'hmm'\n",
            "'voice'\n",
            "'master'\n",
            "'huh'\n",
            "'black'\n",
            "'mm'\n",
            "None\n",
            "None\n",
            "'mhm'\n",
            "'mm'\n",
            "'yeah'\n",
            "'hi'\n"
          ]
        }
      ]
    },
    {
      "cell_type": "code",
      "metadata": {
        "colab": {
          "base_uri": "https://localhost:8080/"
        },
        "id": "DoT_Wh2I2Efs",
        "outputId": "1dbd9c3b-5241-4f46-fd40-c804181607d1"
      },
      "source": [
        "print(count)"
      ],
      "execution_count": null,
      "outputs": [
        {
          "output_type": "stream",
          "name": "stdout",
          "text": [
            "221\n"
          ]
        }
      ]
    },
    {
      "cell_type": "code",
      "metadata": {
        "colab": {
          "base_uri": "https://localhost:8080/"
        },
        "id": "tXhPD7Xqxe14",
        "outputId": "cca3539a-3802-4bda-c2c9-7e853710b949"
      },
      "source": [
        "for i in transcripts_all:\n",
        "  print(i[2], '\\n', i[4], '\\n')\n",
        "  break"
      ],
      "execution_count": null,
      "outputs": [
        {
          "output_type": "stream",
          "name": "stdout",
          "text": [
            "kind of fabric that is stretchy will work for this and im just trying to match the outfit that sarah has in her anus now we are ready to put our doll together and im going to attach the head for my dog and were going to speed it up a little bit \n",
            " kind of fabric that is stretchy will work for this and Im just trying to match the outfit that scare has in hurry nice now we are ready to put our doll together and Im going to attach the head for my doll and were going to speed it up a little bit \n",
            "\n"
          ]
        }
      ]
    },
    {
      "cell_type": "code",
      "metadata": {
        "id": "mETiBcX_2Gwj"
      },
      "source": [
        "df = pd.DataFrame(transcripts_all, columns =['Slur', 'YouTube', 'YouTube Match', 'Amazon', 'Amazon Match', 'Levenshtein Distance', 'Link'])\n",
        "\n",
        "# saving the dataframe\n",
        "df.to_csv('CSV/Misc/Dataset_YouTube_Final_Full.csv')"
      ],
      "execution_count": null,
      "outputs": []
    },
    {
      "cell_type": "code",
      "metadata": {
        "colab": {
          "base_uri": "https://localhost:8080/",
          "height": 163
        },
        "id": "N2nu_IEv445R",
        "outputId": "e4038a10-339a-45c8-a15f-c29f7d4595d4"
      },
      "source": [
        "print(links)"
      ],
      "execution_count": null,
      "outputs": [
        {
          "output_type": "error",
          "ename": "NameError",
          "evalue": "ignored",
          "traceback": [
            "\u001b[0;31m---------------------------------------------------------------------------\u001b[0m",
            "\u001b[0;31mNameError\u001b[0m                                 Traceback (most recent call last)",
            "\u001b[0;32m<ipython-input-8-189566af87c3>\u001b[0m in \u001b[0;36m<module>\u001b[0;34m()\u001b[0m\n\u001b[0;32m----> 1\u001b[0;31m \u001b[0mprint\u001b[0m\u001b[0;34m(\u001b[0m\u001b[0mlinks\u001b[0m\u001b[0;34m)\u001b[0m\u001b[0;34m\u001b[0m\u001b[0;34m\u001b[0m\u001b[0m\n\u001b[0m",
            "\u001b[0;31mNameError\u001b[0m: name 'links' is not defined"
          ]
        }
      ]
    },
    {
      "cell_type": "code",
      "metadata": {
        "id": "_NLCxPiX4tPk"
      },
      "source": [
        "links_final=[]\n",
        "for id in ids:\n",
        "  for i in links:\n",
        "    if id in i:\n",
        "      links_final.append(i)\n",
        "      break\n",
        "print(len(links_final))"
      ],
      "execution_count": null,
      "outputs": []
    },
    {
      "cell_type": "code",
      "metadata": {
        "id": "_vEeNV8sH8nh"
      },
      "source": [
        "#when amazon is source\n",
        "yt_match=[i[4] for i in transcripts_all]\n",
        "am_match=[i[2] for i in transcripts_all]\n",
        "ids=[i[0] for i in transcripts_all]\n",
        "lev=[i[5] for i in transcripts_all]\n",
        "links=[i[6] for i in transcripts_all]\n",
        "dict_={'Slur':ids, 'YT':yt_match, 'Amazon':am_match, 'Levenshtein':lev, 'Link':links}\n",
        "df_new=pd.DataFrame(dict_)\n",
        "df_new.to_csv('CSV/Dataset_Amazon_Final_Extension20.csv')"
      ],
      "execution_count": null,
      "outputs": []
    },
    {
      "cell_type": "code",
      "metadata": {
        "id": "mX4GOtFTt84s"
      },
      "source": [
        "yt_match=[i[2] for i in transcripts_all]\n",
        "am_match=[i[4] for i in transcripts_all]\n",
        "ids=[i[0] for i in transcripts_all]\n",
        "lev=[i[5] for i in transcripts_all]\n",
        "links=[i[6] for i in transcripts_all]\n",
        "dict_={'Slur':ids, 'YT':yt_match, 'Amazon':am_match, 'Levenshtein':lev, 'Link':links}\n",
        "df_new=pd.DataFrame(dict_)\n",
        "df_new.to_csv('CSV/Dataset_YouTube_Final.csv')"
      ],
      "execution_count": null,
      "outputs": []
    },
    {
      "cell_type": "code",
      "metadata": {
        "id": "kVrKXgOKzpvx"
      },
      "source": [
        "d=pd.read_csv('CSV/Dataset_Amazon_Final.csv')\n",
        "d1=pd.read_csv('CSV/Dataset_Amazon_Final_Extension10.csv')\n",
        "d2=pd.read_csv('CSV/Dataset_Amazon_Final_Extension20.csv')"
      ],
      "execution_count": null,
      "outputs": []
    },
    {
      "cell_type": "code",
      "metadata": {
        "id": "UHDU86Dn82zE"
      },
      "source": [
        "amazon_1=[]\n",
        "amazon_2=[]\n",
        "for i in range(len(d)):\n",
        "  for x in range(len(d)):\n",
        "    if(d1['Link'][x] in d['Link'][i]):\n",
        "      amazon_1.append(d1['Amazon'][x])\n",
        "      amazon_2.append(d2['Amazon'][x])\n",
        "      break"
      ],
      "execution_count": null,
      "outputs": []
    },
    {
      "cell_type": "code",
      "metadata": {
        "colab": {
          "base_uri": "https://localhost:8080/"
        },
        "id": "LA4DzUU5C8el",
        "outputId": "4fddc8b3-e0a6-4c45-efd2-d765a990a0ea"
      },
      "source": [
        "print(len(amazon_1))\n",
        "print(len(amazon_2))\n",
        "print(len(d))"
      ],
      "execution_count": null,
      "outputs": [
        {
          "output_type": "stream",
          "name": "stdout",
          "text": [
            "2324\n",
            "2324\n",
            "2324\n"
          ]
        }
      ]
    },
    {
      "cell_type": "code",
      "metadata": {
        "colab": {
          "base_uri": "https://localhost:8080/"
        },
        "id": "RUlrTfqFRtIl",
        "outputId": "dc1729c2-11e2-4529-eda7-507879b0470a"
      },
      "source": [
        "print(d['Amazon'].to_list()[80:100])"
      ],
      "execution_count": null,
      "outputs": [
        {
          "output_type": "stream",
          "name": "stdout",
          "text": [
            "['those dumb comments theyre just negative nonsense', 'unlock the door you must bring down that dumbbell using both your strength', 'hopscotch we added a dumbbell by using buttons we have a toilet paper', 'should have never gotten someone so dumb to rob that bank I dont know how are you doing', 'duck pulls away here comes arthur mr conductor tries as hard as duck gets a little bit of boost but its not enough', 'flew down the hill just in time to pass victor that was so super close folks what an exciting', \"melting He'll turn to water and disappear\", 'raise and lower this heel that wheel turns', 'maybe i could be a hero you mean a heroine yes', 'maybe i could be a hero you mean a heroine yes emma the mighty oh me', 'monsters that seems pretty heroic hey im really fast maybe i could be a hero you mean a heroine yes emma', 'symbol or the his symbol and out pops a little backhoe shovel and this is cool so watch this again so if', 'would just kill me Oh my gosh', 'did a one hit kill again Ryan one hit', 'someone filled my house with water everywhere', 'worked this pink out ooh', 'little pink octopus wonder how many legs it has has', 'little pink octopus wonder how many legs it has has', 'had in his pink gumballs and they were all the little paw patrol pup next', 'drag strip with lightning and the king now these minis came out years ago but you can still probably find']\n"
          ]
        }
      ]
    },
    {
      "cell_type": "code",
      "metadata": {
        "id": "UGk9MNNpz3Gi"
      },
      "source": [
        "dict_={'Amazon Transcript': d['YouTube'].to_list(), 'Extended by 10': amazon_1, 'Extended by 20': amazon_2, 'Presence':d['Does the audio contain a slur or not?'].to_list(), 'Actual Word': d['Actual Word'].to_list(), 'Slur':d['Slur'].to_list()}"
      ],
      "execution_count": null,
      "outputs": []
    },
    {
      "cell_type": "code",
      "metadata": {
        "id": "XaUNyHby7_Y8"
      },
      "source": [
        "df_new=pd.DataFrame(dict_)\n",
        "df_new.to_csv('CSV/Extensions_Combined.csv')"
      ],
      "execution_count": null,
      "outputs": []
    },
    {
      "cell_type": "code",
      "metadata": {
        "colab": {
          "base_uri": "https://localhost:8080/",
          "height": 767
        },
        "id": "_7wAGrPf22iY",
        "outputId": "697ddd9e-2d90-44ac-9e7a-80baf388dbe4"
      },
      "source": [
        "levenshtein=[i[2] for i in transcripts_all]\n",
        "levenshtein.sort()\n",
        "print(levenshtein)\n",
        "\n",
        "plt.figure(figsize=(30,12))\n",
        "plt.xlim([min(levenshtein)-10, max(levenshtein)+2])\n",
        "plt.hist(levenshtein, bins=20, alpha=0.5)\n",
        "plt.title(f'Plot of Levenshtein Distance')\n",
        "plt.xlabel('Levenshtein score')\n",
        "plt.ylabel('Frequency')\n",
        "\n",
        "plt.show()"
      ],
      "execution_count": null,
      "outputs": [
        {
          "output_type": "stream",
          "text": [
            "[0, 0, 0, 0, 0, 0, 0, 0, 0, 0, 0, 0, 0, 0, 0, 0, 0, 0, 0, 0, 0, 0, 0, 0, 0, 0, 0, 0, 0, 0, 0, 0, 0, 0, 0, 0, 0, 0, 0, 0, 0, 0, 0, 0, 0, 0, 0, 0, 0, 0, 0, 0, 0, 0, 0, 0, 0, 0, 0, 0, 0, 0, 0, 0, 0, 0, 0, 0, 1, 1, 1, 1, 1, 1, 1, 1, 1, 1, 1, 1, 1, 1, 1, 1, 1, 1, 1, 1, 1, 1, 1, 1, 1, 1, 1, 1, 1, 1, 1, 1, 1, 1, 1, 1, 1, 1, 1, 1, 2, 2, 2, 2, 2, 2, 2, 2, 2, 2, 2, 2, 2, 2, 2, 2, 2, 2, 2, 2, 2, 2, 2, 2, 2, 2, 2, 2, 2, 2, 2, 2, 2, 2, 2, 2, 2, 2, 2, 2, 2, 2, 2, 2, 2, 3, 3, 3, 3, 3, 3, 3, 3, 3, 3, 3, 3, 3, 3, 3, 3, 3, 3, 3, 3, 3, 3, 3, 3, 3, 3, 3, 3, 3, 3, 3, 3, 3, 3, 3, 3, 3, 3, 3, 3, 3, 3, 3, 3, 3, 3, 3, 3, 3, 3, 3, 3, 3, 3, 3, 4, 4, 4, 4, 4, 4, 4, 4, 4, 4, 4, 4, 4, 4, 4, 4, 4, 4, 4, 4, 4, 4, 4, 4, 4, 4, 4, 4, 4, 4, 4, 4, 4, 4, 4, 4, 4, 4, 4, 4, 4, 4, 4, 4, 4, 4, 4, 4, 4, 4, 4, 4, 4, 4, 4, 4, 4, 4, 4, 4, 4, 5, 5, 5, 5, 5, 5, 5, 5, 5, 5, 5, 5, 5, 5, 5, 5, 5, 5, 5, 5, 5, 5, 5, 5, 5, 5, 5, 5, 5, 5, 5, 5, 5, 5, 5, 5, 5, 5, 5, 5, 5, 5, 5, 5, 5, 5, 5, 5, 5, 5, 5, 5, 5, 5, 5, 5, 5, 5, 5, 5, 5, 5, 5, 5, 5, 5, 5, 5, 6, 6, 6, 6, 6, 6, 6, 6, 6, 6, 6, 6, 6, 6, 6, 6, 6, 6, 6, 6, 6, 6, 6, 6, 6, 6, 6, 6, 6, 6, 6, 6, 6, 6, 6, 6, 6, 6, 6, 6, 6, 6, 6, 6, 6, 6, 6, 6, 6, 6, 6, 6, 6, 6, 6, 7, 7, 7, 7, 7, 7, 7, 7, 7, 7, 7, 7, 7, 7, 7, 7, 7, 7, 7, 7, 7, 7, 7, 7, 7, 7, 7, 7, 7, 7, 7, 7, 7, 7, 7, 8, 8, 8, 8, 8, 8, 8, 8, 8, 8, 8, 8, 8, 8, 8, 8, 8, 8, 8, 8, 8, 8, 8, 8, 8, 8, 8, 8, 8, 8, 8, 8, 8, 8, 8, 8, 8, 8, 8, 8, 8, 8, 8, 8, 8, 8, 8, 8, 8, 8, 8, 8, 8, 8, 8, 9, 9, 9, 9, 9, 9, 9, 9, 9, 9, 9, 9, 9, 9, 9, 9, 9, 9, 9, 9, 9, 9, 9, 9, 9, 9, 9, 9, 9, 9, 9, 9, 9, 9, 9, 10, 10, 10, 10, 10, 10, 10, 10, 10, 10, 10, 10, 10, 10, 10, 10, 10, 10, 10, 10, 10, 10, 10, 10, 10, 10, 10, 10, 10, 10, 10, 10, 10, 10, 10, 10, 10, 10, 10, 10, 10, 10, 10, 10, 11, 11, 11, 11, 11, 11, 11, 11, 11, 11, 11, 11, 11, 11, 11, 11, 11, 11, 11, 11, 11, 11, 11, 11, 11, 11, 11, 11, 11, 11, 11, 11, 11, 11, 11, 11, 11, 11, 11, 11, 11, 11, 11, 11, 11, 11, 11, 11, 12, 12, 12, 12, 12, 12, 12, 12, 12, 12, 12, 12, 12, 12, 12, 12, 12, 12, 12, 12, 12, 12, 12, 12, 12, 12, 12, 12, 12, 12, 12, 12, 12, 12, 13, 13, 13, 13, 13, 13, 13, 13, 13, 13, 13, 13, 13, 13, 13, 13, 13, 13, 13, 13, 13, 13, 13, 13, 13, 13, 13, 13, 13, 13, 13, 13, 13, 13, 13, 14, 14, 14, 14, 14, 14, 14, 14, 14, 14, 14, 14, 14, 14, 14, 14, 14, 14, 14, 14, 14, 14, 14, 14, 14, 14, 14, 14, 14, 14, 14, 14, 14, 14, 14, 14, 14, 14, 14, 14, 14, 15, 15, 15, 15, 15, 15, 15, 15, 15, 15, 15, 15, 15, 15, 15, 15, 15, 15, 15, 15, 15, 15, 15, 15, 15, 15, 15, 15, 15, 15, 15, 15, 15, 15, 15, 15, 15, 15, 15, 15, 15, 15, 16, 16, 16, 16, 16, 16, 16, 16, 16, 16, 16, 16, 16, 16, 16, 16, 16, 16, 16, 16, 16, 16, 16, 16, 17, 17, 17, 17, 17, 17, 17, 17, 17, 17, 17, 17, 17, 17, 17, 17, 17, 17, 17, 17, 17, 17, 17, 17, 17, 17, 17, 17, 17, 18, 18, 18, 18, 18, 18, 18, 18, 18, 18, 18, 18, 18, 18, 18, 18, 18, 18, 18, 18, 18, 18, 19, 19, 19, 19, 19, 19, 19, 19, 19, 19, 19, 19, 19, 19, 19, 19, 19, 19, 19, 19, 19, 19, 19, 19, 19, 19, 19, 19, 20, 20, 20, 20, 20, 20, 20, 20, 20, 20, 20, 20, 20, 20, 20, 20, 20, 20, 20, 21, 21, 21, 21, 21, 21, 21, 21, 21, 21, 21, 21, 21, 21, 21, 21, 21, 21, 21, 21, 21, 21, 21, 21, 21, 21, 21, 22, 22, 22, 22, 22, 22, 22, 22, 22, 22, 22, 22, 22, 22, 22, 22, 22, 22, 22, 22, 22, 22, 22, 22, 22, 22, 22, 22, 22, 23, 23, 23, 23, 23, 23, 23, 23, 23, 23, 23, 23, 23, 23, 23, 23, 23, 23, 23, 23, 23, 23, 23, 23, 23, 23, 24, 24, 24, 24, 24, 24, 24, 24, 24, 24, 24, 24, 24, 24, 24, 24, 24, 24, 24, 24, 24, 24, 24, 24, 25, 25, 25, 25, 25, 25, 25, 25, 25, 25, 25, 25, 25, 25, 25, 25, 25, 25, 25, 25, 25, 25, 25, 25, 25, 25, 25, 25, 26, 26, 26, 26, 26, 26, 26, 26, 26, 26, 26, 26, 26, 26, 26, 26, 26, 26, 27, 27, 27, 27, 27, 27, 27, 27, 27, 27, 27, 27, 27, 27, 27, 27, 27, 27, 28, 28, 28, 28, 28, 28, 28, 28, 28, 28, 28, 28, 28, 28, 29, 29, 29, 29, 29, 29, 29, 29, 29, 29, 29, 29, 29, 29, 29, 29, 29, 29, 29, 29, 29, 30, 30, 30, 30, 30, 30, 30, 30, 30, 30, 30, 30, 30, 30, 30, 30, 31, 31, 31, 31, 31, 31, 31, 31, 31, 31, 31, 31, 31, 31, 31, 31, 31, 31, 32, 32, 32, 32, 32, 32, 32, 32, 32, 32, 32, 32, 32, 32, 33, 33, 33, 33, 33, 33, 33, 33, 33, 33, 33, 33, 33, 33, 33, 34, 34, 34, 34, 34, 34, 34, 34, 34, 34, 34, 34, 34, 34, 34, 34, 35, 35, 35, 35, 35, 35, 35, 35, 35, 35, 35, 35, 35, 35, 36, 36, 36, 36, 36, 36, 36, 36, 36, 36, 36, 36, 37, 37, 37, 37, 37, 37, 37, 37, 37, 37, 37, 37, 37, 37, 37, 37, 37, 37, 37, 38, 38, 38, 38, 38, 38, 38, 38, 38, 38, 39, 39, 39, 39, 39, 39, 39, 39, 39, 39, 39, 39, 39, 39, 39, 39, 39, 39, 40, 40, 40, 40, 40, 40, 40, 40, 40, 40, 40, 40, 40, 40, 40, 41, 41, 41, 41, 41, 41, 41, 41, 41, 41, 41, 41, 41, 41, 42, 42, 42, 42, 42, 42, 42, 42, 43, 43, 43, 43, 43, 43, 43, 43, 43, 44, 44, 44, 44, 44, 44, 44, 44, 44, 44, 44, 44, 44, 44, 44, 45, 45, 45, 45, 45, 45, 45, 45, 45, 45, 45, 45, 46, 46, 46, 46, 46, 46, 46, 46, 46, 46, 46, 46, 46, 47, 47, 47, 47, 47, 47, 47, 47, 47, 47, 47, 47, 48, 48, 48, 48, 48, 48, 48, 48, 48, 48, 49, 49, 49, 49, 49, 49, 49, 49, 49, 49, 49, 49, 50, 50, 50, 50, 50, 50, 50, 51, 51, 51, 51, 51, 51, 51, 51, 52, 52, 52, 52, 52, 53, 53, 53, 53, 53, 53, 53, 53, 53, 53, 53, 53, 54, 54, 54, 54, 54, 54, 54, 54, 54, 54, 55, 55, 55, 55, 55, 55, 55, 55, 55, 55, 55, 55, 55, 55, 55, 55, 55, 55, 55, 55, 55, 55, 56, 56, 56, 56, 57, 57, 57, 57, 57, 57, 57, 57, 58, 58, 58, 58, 58, 58, 58, 58, 58, 59, 59, 59, 59, 59, 59, 59, 59, 60, 60, 60, 60, 60, 61, 61, 61, 61, 61, 61, 61, 61, 61, 62, 62, 62, 62, 62, 62, 62, 62, 62, 62, 63, 63, 63, 63, 63, 63, 63, 63, 63, 63, 63, 64, 64, 64, 64, 64, 64, 64, 64, 64, 64, 65, 65, 65, 65, 65, 65, 65, 65, 65, 65, 65, 65, 66, 66, 66, 66, 66, 66, 66, 66, 66, 66, 66, 66, 66, 66, 66, 66, 67, 67, 67, 67, 67, 67, 67, 68, 68, 68, 68, 68, 68, 69, 69, 69, 69, 69, 69, 69, 69, 70, 70, 70, 70, 70, 70, 71, 71, 71, 71, 71, 72, 72, 72, 72, 72, 72, 72, 72, 72, 73, 73, 73, 73, 73, 73, 73, 73, 73, 73, 74, 74, 74, 74, 74, 74, 74, 75, 75, 75, 75, 75, 76, 76, 76, 76, 76, 76, 77, 77, 77, 77, 77, 77, 78, 78, 78, 78, 79, 79, 79, 80, 80, 80, 80, 80, 80, 80, 80, 81, 81, 81, 81, 81, 81, 82, 82, 82, 82, 82, 82, 83, 83, 83, 83, 83, 83, 84, 84, 84, 84, 84, 84, 85, 85, 85, 85, 85, 85, 85, 85, 85, 85, 86, 86, 86, 86, 86, 86, 87, 87, 87, 88, 88, 88, 88, 88, 88, 89, 89, 89, 89, 89, 89, 90, 90, 90, 90, 90, 90, 90, 90, 90, 90, 90, 90, 90, 91, 91, 91, 91, 91, 91, 92, 92, 92, 92, 93, 93, 94, 94, 94, 94, 95, 95, 95, 95, 95, 95, 95, 95, 96, 96, 96, 96, 96, 96, 96, 96, 97, 97, 97, 97, 98, 98, 98, 99, 99, 99, 99, 100, 100, 100, 100, 101, 101, 101, 101, 102, 102, 102, 102, 103, 103, 103, 103, 104, 105, 105, 105, 105, 105, 106, 106, 106, 107, 107, 107, 107, 107, 107, 107, 108, 108, 108, 108, 109, 110, 110, 110, 111, 111, 111, 112, 112, 112, 113, 113, 114, 114, 114, 114, 114, 115, 115, 115, 115, 116, 116, 117, 117, 117, 117, 117, 119, 119, 119, 119, 120, 120, 121, 122, 122, 122, 122, 122, 122, 123, 123, 124, 124, 125, 125, 126, 127, 127, 127, 128, 129, 129, 130, 130, 130, 130, 130, 131, 131, 131, 132, 132, 132, 132, 132, 133, 133, 134, 136, 137, 137, 138, 139, 139, 139, 139, 139, 139, 144, 144, 144, 144, 144, 145, 146, 146, 146, 147, 147, 148, 148, 148, 149, 149, 149, 149, 150, 150, 151, 152, 153, 153, 153, 153, 154, 154, 154, 155, 156, 156, 157, 157, 157, 158, 158, 158, 159, 161, 161, 163, 163, 163, 164, 164, 165, 165, 167, 167, 167, 167, 168, 168, 168, 168, 169, 171, 171, 172, 172, 173, 173, 174, 174, 175, 176, 177, 177, 177, 177, 179, 179, 182, 182, 183, 183, 184, 184, 184, 184, 184, 185, 185, 186, 186, 186, 186, 186, 187, 188, 188, 189, 190, 190, 190, 191, 191, 191, 191, 192, 193, 194, 194, 195, 195, 196, 197, 199, 200, 202, 203, 203, 204, 207, 207, 208, 213, 218, 218, 219, 220, 221, 221, 223, 223, 224, 226, 227, 230, 231, 232, 234, 234, 235, 235, 236, 237, 238, 238, 238, 240, 241, 241, 241, 242, 242, 243, 243, 243, 244, 246, 248, 249, 250, 251, 252, 253, 254, 258, 259, 261, 261, 262, 263, 264, 265, 266, 266, 266, 266, 267, 268, 269, 270, 272, 272, 273, 273, 275, 275, 276, 276, 277, 277, 277, 278, 279, 279, 280, 282, 283, 284, 284, 286, 286, 290, 291, 295, 296, 297, 298, 298, 299, 301, 302, 302, 303, 305, 305, 308, 308, 309, 309, 311, 312, 316, 317, 317, 319, 319, 319, 320, 320, 321, 323, 325, 326, 327, 328, 329, 330, 330, 331, 331, 332, 333, 334, 334, 336, 337, 337, 342, 343, 344, 346, 347, 347, 348, 350, 350, 351, 351, 352, 354, 360, 361, 362, 365, 366, 369, 376, 380, 380, 383, 386, 386, 388, 391, 392, 392, 393, 395, 396, 396, 397, 399, 399, 401, 403, 405, 405, 405, 407, 409, 410, 411, 413, 413, 416, 417, 417, 422, 422, 423, 428, 429, 431, 432, 433, 435, 437, 437, 440, 441, 444, 447, 448, 449, 458, 460, 461, 462, 466, 466, 468, 470, 472, 472, 478, 485, 489, 490, 491, 492, 493, 493, 497, 498, 500, 503, 506, 507, 507, 509, 509, 512, 514, 515, 516, 522, 523, 526, 527, 530, 532, 533, 539, 539, 542, 543, 546, 550, 551, 553, 558, 562, 571, 573, 579, 588, 590, 591, 597, 606, 609, 611, 612, 613, 614, 614, 614, 617, 619, 624, 626, 629, 629, 644, 646, 653, 653, 654, 661, 666, 671, 677, 690, 690, 703, 714, 722, 733, 737, 767, 768, 772, 779, 781, 788, 807, 807, 814, 815, 820, 828, 838, 840, 841, 854, 857, 864, 874, 895, 904, 912, 915, 940, 965, 989, 994, 1000, 1015, 1020, 1059, 1060, 1062, 1071, 1080, 1091, 1096, 1096, 1098, 1110, 1150, 1197, 1200, 1289, 1297, 1337, 1394, 1397, 1420, 1451, 1451, 1468, 1532, 1597, 1597, 1716, 1722, 1729, 1729, 1804, 1865, 1892, 1901, 1936, 1945, 1957, 2005, 2031, 2125, 2178, 2363, 2410, 2422, 2422, 2476, 2538, 2540, 2643, 2664, 2836, 2924, 3064, 3150, 3246, 3246, 4331, 5549]\n"
          ],
          "name": "stdout"
        },
        {
          "output_type": "display_data",
          "data": {
            "image/png": "[encoded data removed]",
            "text/plain": [
              "<Figure size 2160x864 with 1 Axes>"
            ]
          },
          "metadata": {
            "needs_background": "light"
          }
        }
      ]
    },
    {
      "cell_type": "code",
      "metadata": {
        "colab": {
          "base_uri": "https://localhost:8080/"
        },
        "id": "IXSb2xp34I2a",
        "outputId": "103bf6b4-2941-4d2c-da37-25379dbd6894"
      },
      "source": [
        "print(len([i for i in levenshtein if i<10]))\n",
        "print(len([i for i in levenshtein if i<25]))\n",
        "print(len([i for i in levenshtein if i<50]))\n",
        "print(len([i for i in levenshtein if i<100]))\n",
        "print(len(levenshtein))"
      ],
      "execution_count": null,
      "outputs": [
        {
          "output_type": "stream",
          "text": [
            "517\n",
            "989\n",
            "1360\n",
            "1727\n",
            "2324\n"
          ],
          "name": "stdout"
        }
      ]
    },
    {
      "cell_type": "code",
      "metadata": {
        "id": "bNK0-H4YjBGb"
      },
      "source": [
        "final_addr='Final Results/'\n",
        "video_ids=[]\n",
        "transcript_type='Amazon'\n",
        "df=pd.read_csv('Final Results/Dataset_'+transcript_type+'_Final_2.csv')\n",
        "for i in range(len(df)):\n",
        "  actual_word=df['Actual Word'][i]\n",
        "  if((df['Does the audio contain a slur or not?'][i]!='No') or (actual_word=='[Noises]')):\n",
        "    continue\n",
        "  vid_id=str(df['Link'][i])[32:43]\n",
        "  video_ids.append(vid_id)"
      ],
      "execution_count": null,
      "outputs": []
    },
    {
      "cell_type": "code",
      "metadata": {
        "colab": {
          "base_uri": "https://localhost:8080/"
        },
        "id": "GrHxjhFgZuNt",
        "outputId": "77e8de4c-ffd6-4589-88e2-dc6c5dc6ed4b"
      },
      "source": [
        "print(len(video_ids))"
      ],
      "execution_count": null,
      "outputs": [
        {
          "output_type": "stream",
          "name": "stdout",
          "text": [
            "323\n"
          ]
        }
      ]
    },
    {
      "cell_type": "code",
      "metadata": {
        "id": "3H1qt9PzZzQV"
      },
      "source": [
        "transcripts_amazon=[]\n",
        "transcripts_youtube=[]\n",
        "dict_={}\n",
        "df=pd.read_csv(\"CSV/Matched Transcripts.csv\")\n",
        "for i in range(len(df)):\n",
        "  dict_[df['Video Id'][i]]=(df['Amazon'][i], df['YouTube'][i])"
      ],
      "execution_count": null,
      "outputs": []
    },
    {
      "cell_type": "code",
      "metadata": {
        "id": "kQGkVQh7dHjW"
      },
      "source": [
        "import math\n",
        "from collections import Counter\n",
        "\n",
        "def counter_cosine_similarity(c1, c2):\n",
        "    terms = set(c1).union(c2)\n",
        "    dotprod = sum(c1.get(k, 0) * c2.get(k, 0) for k in terms)\n",
        "    magA = math.sqrt(sum(c1.get(k, 0)**2 for k in terms))\n",
        "    magB = math.sqrt(sum(c2.get(k, 0)**2 for k in terms))\n",
        "    return dotprod / (magA * magB)\n",
        "\n",
        "def length_similarity(c1, c2):\n",
        "    lenc1 = sum(c1.values())\n",
        "    lenc2 = sum(c2.values())\n",
        "    return min(lenc1, lenc2) / float(max(lenc1, lenc2))\n",
        "\n",
        "def similarity_score(l1, l2):\n",
        "    c1, c2 = Counter(l1), Counter(l2)\n",
        "    return length_similarity(c1, c2) * counter_cosine_similarity(c1, c2)"
      ],
      "execution_count": null,
      "outputs": []
    },
    {
      "cell_type": "code",
      "metadata": {
        "id": "0WXBheClbOVU"
      },
      "source": [
        "values=[]\n",
        "for i in video_ids:\n",
        "  try:\n",
        "    am=dict_[i][0]\n",
        "    yt=dict_[i][1]\n",
        "    counterA = Counter(am)\n",
        "    counterB = Counter(yt)\n",
        "    value=counter_cosine_similarity(counterA, counterB)\n",
        "    values.append(value)\n",
        "    if(value<0.5):\n",
        "      print(value, ' ', id)\n",
        "  except Exception as e:\n",
        "    print(e)\n",
        "    print(i)"
      ],
      "execution_count": null,
      "outputs": []
    },
    {
      "cell_type": "code",
      "metadata": {
        "colab": {
          "base_uri": "https://localhost:8080/",
          "height": 404
        },
        "id": "9NSQ87Yqe7wo",
        "outputId": "f47b829f-4ece-452c-f59f-6f29e7610f2b"
      },
      "source": [
        "#YouTube\n",
        "import pandas as pd\n",
        "import numpy as np\n",
        "import matplotlib.pyplot as plt\n",
        "\n",
        "plt.figure(figsize =(9, 6))\n",
        "plt.xlim([min(values)-0.1, 1])\n",
        "plt.hist(values, bins=20, alpha=0.5)\n",
        "plt.title(f'Plot of similarity scores for all words')\n",
        "plt.xlabel('Similarity score')\n",
        "plt.ylabel('Frequency')\n",
        "\n",
        "plt.show()"
      ],
      "execution_count": null,
      "outputs": [
        {
          "output_type": "display_data",
          "data": {
            "image/png": "[encoded data removed]",
            "text/plain": [
              "<Figure size 648x432 with 1 Axes>"
            ]
          },
          "metadata": {
            "needs_background": "light"
          }
        }
      ]
    },
    {
      "cell_type": "code",
      "metadata": {
        "colab": {
          "base_uri": "https://localhost:8080/"
        },
        "id": "vrGVoAp0fN_4",
        "outputId": "802a324f-12f2-45e3-ac9a-c41c08381ed8"
      },
      "source": [
        "print(min(values))\n",
        "print(max(values))"
      ],
      "execution_count": null,
      "outputs": [
        {
          "output_type": "stream",
          "name": "stdout",
          "text": [
            "0.9226670948870699\n",
            "0.9996534193682741\n"
          ]
        }
      ]
    },
    {
      "cell_type": "code",
      "metadata": {
        "colab": {
          "base_uri": "https://localhost:8080/",
          "height": 404
        },
        "id": "qvY6CTSDfbEt",
        "outputId": "64811dd2-c691-4106-9794-629e868e6402"
      },
      "source": [
        "#Amazon\n",
        "import pandas as pd\n",
        "import numpy as np\n",
        "import matplotlib.pyplot as plt\n",
        "\n",
        "plt.figure(figsize =(9, 6))\n",
        "plt.xlim([min(values)-0.1, 1])\n",
        "plt.hist(values, bins=20, alpha=0.5)\n",
        "plt.title(f'Plot of similarity scores for all words')\n",
        "plt.xlabel('Similarity score')\n",
        "plt.ylabel('Frequency')\n",
        "\n",
        "plt.show()"
      ],
      "execution_count": null,
      "outputs": [
        {
          "output_type": "display_data",
          "data": {
            "image/png": "[encoded data removed]",
            "text/plain": [
              "<Figure size 648x432 with 1 Axes>"
            ]
          },
          "metadata": {
            "needs_background": "light"
          }
        }
      ]
    },
    {
      "cell_type": "code",
      "metadata": {
        "colab": {
          "base_uri": "https://localhost:8080/"
        },
        "id": "wNR6SXdofdkE",
        "outputId": "3ce80fab-0447-4745-bd31-16f9483c4e47"
      },
      "source": [
        "print(min(values))\n",
        "print(max(values))"
      ],
      "execution_count": null,
      "outputs": [
        {
          "output_type": "stream",
          "name": "stdout",
          "text": [
            "0.8035614076389804\n",
            "0.9997261485897591\n"
          ]
        }
      ]
    },
    {
      "cell_type": "markdown",
      "metadata": {
        "id": "r_Ls6ABys6PK"
      },
      "source": [
        "#Matching 1\n"
      ]
    },
    {
      "cell_type": "code",
      "metadata": {
        "id": "MQ5ANX1YiAkp"
      },
      "source": [
        "import re\n",
        "import json\n",
        "\n",
        "from difflib import ndiff\n",
        "\n",
        "def calculate_levenshtein_distance(str_1, str_2):\n",
        "    \"\"\"\n",
        "        The Levenshtein distance is a string metric for measuring the difference between two sequences.\n",
        "        It is calculated as the minimum number of single-character edits necessary to transform one string into another\n",
        "    \"\"\"\n",
        "    distance = 0\n",
        "    buffer_removed = buffer_added = 0\n",
        "    for x in ndiff(str_1, str_2):\n",
        "        code = x[0]\n",
        "        # Code ? is ignored as it does not translate to any modification\n",
        "        if code == ' ':\n",
        "            distance += max(buffer_removed, buffer_added)\n",
        "            buffer_removed = buffer_added = 0\n",
        "        elif code == '-':\n",
        "            buffer_removed += 1\n",
        "        elif code == '+':\n",
        "            buffer_added += 1\n",
        "    distance += max(buffer_removed, buffer_added)\n",
        "    return distance\n",
        "\n",
        "def removePunctuation(line):\n",
        "    # initializing punctuations string\n",
        "    punc = '''!()-[]{};:'\"\\,<>./?@#$%^&*_~'''\n",
        "\n",
        "    # Removing punctuations in string\n",
        "    # Using loop + punctuation string\n",
        "    for ele in line:\n",
        "        if ele in punc:\n",
        "            line = line.replace(ele, \"\")\n",
        "    return(line)"
      ],
      "execution_count": null,
      "outputs": []
    },
    {
      "cell_type": "code",
      "metadata": {
        "id": "Rzh1uwMITpfi"
      },
      "source": [
        "import os\n",
        "csv_youtube=os.listdir(\"CSV/YouTube\")\n",
        "csv_amazon=os.listdir(\"CSV/Amazon\")"
      ],
      "execution_count": null,
      "outputs": []
    },
    {
      "cell_type": "code",
      "metadata": {
        "id": "YPy-S2R7Xbj_"
      },
      "source": [
        "import pandas as pd\n",
        "def extract_text(pd_file):\n",
        "  text=[]\n",
        "  df=pd.read_csv(pd_file)\n",
        "  for i in df['Transcript']:\n",
        "    text.append(str(i))\n",
        "  return text"
      ],
      "execution_count": null,
      "outputs": []
    },
    {
      "cell_type": "code",
      "metadata": {
        "id": "Wyn2eZDQmslF"
      },
      "source": [
        "#This part of the code reads a Google transcript. Processes the text to remove punctunation, speaker information, timing information and outputs a dictionary\n",
        "#of word frequency.\n",
        "all_transcripts=[]\n",
        "match_score=[]\n",
        "video_id=[]\n",
        "amazon_transcripts=[]\n",
        "youtube_transcripts=[]\n",
        "for id in csv_youtube:\n",
        "  trans=\"\"\n",
        "  if(id in csv_amazon):\n",
        "    googleString =\"\"\n",
        "    awsString =\"\"\n",
        "\n",
        "    googleDict = {}\n",
        "    googleDetailedDict = {}\n",
        "    googleIndex = 0\n",
        "\n",
        "    lines=extract_text(\"CSV/YouTube/\"+id)\n",
        "    youtube_transcripts.append(' '.join(lines))\n",
        "    count = 0\n",
        "    for line in lines:\n",
        "        count += 1\n",
        "        x = line.strip().split(\",\")\n",
        "\n",
        "        if(len(x) >= 3): #Timing information is present\n",
        "            x = x[: len(x) - 2] #Remove the timing information\n",
        "            modifiedLine = ' '.join(x).strip()\n",
        "            modifiedLine = re.sub(\"([\\(\\[]).*?([\\)\\]])\", \"\\g<1>\\g<2>\", modifiedLine)\n",
        "            modifiedLine = removePunctuation(modifiedLine)\n",
        "            modifiedLine = modifiedLine.strip().lower()\n",
        "        else: #No timing information\n",
        "            modifiedLine = ' '.join(x).strip()\n",
        "            modifiedLine = re.sub(\"([\\(\\[]).*?([\\)\\]])\", \"\\g<1>\\g<2>\", modifiedLine)\n",
        "            modifiedLine = removePunctuation(modifiedLine)\n",
        "            modifiedLine = modifiedLine.strip().lower()\n",
        "\n",
        "        #Break the line into individual words and create a dictionary\n",
        "        words = modifiedLine.split()\n",
        "\n",
        "        for word in words:\n",
        "            googleString = googleString + \" \" + word\n",
        "            if word not in googleDict:\n",
        "                googleDict[word] = 1\n",
        "\n",
        "            else:\n",
        "                googleDict[word] = googleDict[word] + 1\n",
        "\n",
        "            googleIndex = googleIndex + 1\n",
        "\n",
        "\n",
        "    #print(googleDict)\n",
        "\n",
        "    #for ele in googleDict:\n",
        "    #    print(ele, googleDict[ele])\n",
        "\n",
        "\n",
        "    awsDict = {}\n",
        "    awsDetailedDict = {}\n",
        "\n",
        "\n",
        "    awsTranscript= extract_text(\"CSV/Amazon/\"+id)\n",
        "    awsTranscript=' '.join(awsTranscript)\n",
        "    amazon_transcripts.append(awsTranscript)\n",
        "\n",
        "    awsTranscript = removePunctuation(awsTranscript)\n",
        "    awsTranscript =awsTranscript.lower()\n",
        "\n",
        "    #Break the line into individual words and create a dictionary\n",
        "    words = awsTranscript.split()\n",
        "\n",
        "    for word in words:\n",
        "        awsString = awsString + \" \" + word\n",
        "        if word not in awsDict:\n",
        "            awsDict[word] = 1\n",
        "        else:\n",
        "            awsDict[word] = awsDict[word] + 1\n",
        "\n",
        "    totalMatch = 0\n",
        "\n",
        "    for ele in awsDict:\n",
        "        if ele in googleDict:\n",
        "            if(awsDict[ele] == googleDict[ele]):\n",
        "                trans+=ele+' '\n",
        "                totalMatch = totalMatch + 1\n",
        "    try:\n",
        "      print(totalMatch / len(awsDict))\n",
        "      match_score.append(totalMatch / len(awsDict))\n",
        "    except:\n",
        "      match_score.append(0)\n",
        "    all_transcripts.append(trans)\n",
        "    video_id.append(id[:-4])"
      ],
      "execution_count": null,
      "outputs": []
    },
    {
      "cell_type": "code",
      "metadata": {
        "id": "TfaPQ2cccfqC"
      },
      "source": [
        "dict = {'Video Id': video_id, 'Amazon': amazon_transcripts, 'YouTube': youtube_transcripts, 'Matched Transcript':all_transcripts, 'Match Score':match_score}\n",
        "\n",
        "df = pd.DataFrame(dict)\n",
        "\n",
        "# saving the dataframe\n",
        "df.to_csv('CSV/Matched Transcripts.csv')"
      ],
      "execution_count": null,
      "outputs": []
    },
    {
      "cell_type": "code",
      "metadata": {
        "colab": {
          "base_uri": "https://localhost:8080/"
        },
        "id": "CNZECEgIqaz3",
        "outputId": "72ee38d6-13a3-4422-b592-e70afcaab81c"
      },
      "source": [
        "print(len(video_id))\n",
        "print(len(amazon_transcripts))\n",
        "print(len(youtube_transcripts))\n",
        "print(len(all_transcripts))\n",
        "print(len(match_score))"
      ],
      "execution_count": null,
      "outputs": [
        {
          "output_type": "stream",
          "text": [
            "7252\n",
            "7252\n",
            "7252\n",
            "7252\n",
            "7252\n"
          ],
          "name": "stdout"
        }
      ]
    },
    {
      "cell_type": "code",
      "metadata": {
        "colab": {
          "base_uri": "https://localhost:8080/"
        },
        "id": "cYOp94Isox9U",
        "outputId": "2531c327-77ea-42b1-fbca-7a05ce256da8"
      },
      "source": [
        "compString= \"He l \"\n",
        "dict_={}\n",
        "for i in range(len(compString)):\n",
        "\tchar=compString[i]\n",
        "\tif(char in dict_):\n",
        "\t\tdict_[char]+=1\n",
        "\telse:\n",
        "\t\tdict_[char]=1\n",
        "count=0\n",
        "\n",
        "for i in dict_.keys():\n",
        "\tif(dict_[i]==1):\n",
        "\t\tcount+=1\n",
        "print(count)"
      ],
      "execution_count": null,
      "outputs": [
        {
          "output_type": "stream",
          "text": [
            "3\n"
          ],
          "name": "stdout"
        }
      ]
    }
  ]
}